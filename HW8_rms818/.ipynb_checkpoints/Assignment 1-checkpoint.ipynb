{
 "cells": [
  {
   "cell_type": "code",
   "execution_count": 1,
   "metadata": {},
   "outputs": [
    {
     "name": "stdout",
     "output_type": "stream",
     "text": [
      "Populating the interactive namespace from numpy and matplotlib\n"
     ]
    },
    {
     "name": "stderr",
     "output_type": "stream",
     "text": [
      "/usr/local/Anaconda3-5.0.0-Linux-x86_64/envs/PUI2016_Python3/lib/python3.5/site-packages/IPython/core/magics/pylab.py:161: UserWarning: pylab import has clobbered these variables: ['plt']\n",
      "`%matplotlib` prevents importing * from pylab and numpy\n",
      "  \"\\n`%matplotlib` prevents importing * from pylab and numpy\"\n"
     ]
    }
   ],
   "source": [
    "from __future__ import print_function\n",
    "\n",
    "try:\n",
    "    import urllib2 as ulib\n",
    "except ImportError:\n",
    "    import urllib as ulib\n",
    "\n",
    "try:\n",
    "    from StringIO import BytesIO as io\n",
    "except ImportError:\n",
    "    from io import BytesIO as io\n",
    "\n",
    "try:\n",
    "    from urllib import urlencode as urlencode\n",
    "except ImportError:\n",
    "    from urllib.parse import urlencode as urlencode\n",
    "    \n",
    "try:\n",
    "    from urllib import urlopen as urlopen\n",
    "except ImportError:\n",
    "    from urllib.request import urlopen as urlopen\n",
    "    \n",
    "try:\n",
    "    from urllib2 import HTTPError as HTTPError\n",
    "except ImportError:\n",
    "    from urllib.error import HTTPError as HTTPError\n",
    "\n",
    "import pandas as pd\n",
    "import os\n",
    "import matplotlib as plt\n",
    "import geopandas as gpd\n",
    "    \n",
    "%pylab inline"
   ]
  },
  {
   "cell_type": "code",
   "execution_count": 2,
   "metadata": {},
   "outputs": [],
   "source": [
    "url = \"https://data.cityofnewyork.us/api/views/nu7n-tubp/rows.csv?accessType=DOWNLOAD\"\n",
    "ulib.request.urlretrieve(url, \"nycdogs.csv\")\n",
    "!mv nycdogs.csv $PUIDATA"
   ]
  },
  {
   "cell_type": "code",
   "execution_count": 3,
   "metadata": {},
   "outputs": [],
   "source": [
    "nycdogs = pd.read_csv(os.getenv(\"PUIDATA\") + \"/nycdogs.csv\")"
   ]
  },
  {
   "cell_type": "code",
   "execution_count": 4,
   "metadata": {
    "scrolled": false
   },
   "outputs": [
    {
     "data": {
      "text/html": [
       "<div>\n",
       "<table border=\"1\" class=\"dataframe\">\n",
       "  <thead>\n",
       "    <tr style=\"text-align: right;\">\n",
       "      <th></th>\n",
       "      <th>RowNumber</th>\n",
       "      <th>AnimalName</th>\n",
       "      <th>AnimalGender</th>\n",
       "      <th>AnimalBirthMonth</th>\n",
       "      <th>BreedName</th>\n",
       "      <th>Borough</th>\n",
       "      <th>ZipCode</th>\n",
       "      <th>CommunityDistrict</th>\n",
       "      <th>CensusTract2010</th>\n",
       "      <th>NTA</th>\n",
       "      <th>CityCouncilDistrict</th>\n",
       "      <th>CongressionalDistrict</th>\n",
       "      <th>StateSenatorialDistrict</th>\n",
       "      <th>LicenseIssuedDate</th>\n",
       "      <th>LicenseExpiredDate</th>\n",
       "    </tr>\n",
       "  </thead>\n",
       "  <tbody>\n",
       "    <tr>\n",
       "      <th>0</th>\n",
       "      <td>1753</td>\n",
       "      <td>SHADOW</td>\n",
       "      <td>M</td>\n",
       "      <td>01/01/2000 12:00:00 AM</td>\n",
       "      <td>Beagle</td>\n",
       "      <td>Brooklyn</td>\n",
       "      <td>11236.0</td>\n",
       "      <td>318.0</td>\n",
       "      <td>1014.0</td>\n",
       "      <td>BK50</td>\n",
       "      <td>46.0</td>\n",
       "      <td>8.0</td>\n",
       "      <td>19.0</td>\n",
       "      <td>12/29/2014</td>\n",
       "      <td>01/30/2016</td>\n",
       "    </tr>\n",
       "    <tr>\n",
       "      <th>1</th>\n",
       "      <td>2415</td>\n",
       "      <td>ROCCO</td>\n",
       "      <td>M</td>\n",
       "      <td>10/01/2011 12:00:00 AM</td>\n",
       "      <td>Boxer</td>\n",
       "      <td>Brooklyn</td>\n",
       "      <td>11210.0</td>\n",
       "      <td>314.0</td>\n",
       "      <td>756.0</td>\n",
       "      <td>BK43</td>\n",
       "      <td>45.0</td>\n",
       "      <td>9.0</td>\n",
       "      <td>17.0</td>\n",
       "      <td>01/07/2015</td>\n",
       "      <td>01/30/2016</td>\n",
       "    </tr>\n",
       "    <tr>\n",
       "      <th>2</th>\n",
       "      <td>3328</td>\n",
       "      <td>LUIGI</td>\n",
       "      <td>M</td>\n",
       "      <td>09/01/2005 12:00:00 AM</td>\n",
       "      <td>Maltese</td>\n",
       "      <td>Bronx</td>\n",
       "      <td>10464.0</td>\n",
       "      <td>210.0</td>\n",
       "      <td>516.0</td>\n",
       "      <td>BX10</td>\n",
       "      <td>13.0</td>\n",
       "      <td>14.0</td>\n",
       "      <td>34.0</td>\n",
       "      <td>01/17/2015</td>\n",
       "      <td>02/02/2016</td>\n",
       "    </tr>\n",
       "    <tr>\n",
       "      <th>3</th>\n",
       "      <td>7537</td>\n",
       "      <td>PETUNIA</td>\n",
       "      <td>F</td>\n",
       "      <td>08/01/2013 12:00:00 AM</td>\n",
       "      <td>Pug</td>\n",
       "      <td>Brooklyn</td>\n",
       "      <td>11221.0</td>\n",
       "      <td>304.0</td>\n",
       "      <td>419.0</td>\n",
       "      <td>BK78</td>\n",
       "      <td>34.0</td>\n",
       "      <td>7.0</td>\n",
       "      <td>18.0</td>\n",
       "      <td>03/01/2015</td>\n",
       "      <td>03/28/2016</td>\n",
       "    </tr>\n",
       "    <tr>\n",
       "      <th>4</th>\n",
       "      <td>8487</td>\n",
       "      <td>ROMEO</td>\n",
       "      <td>M</td>\n",
       "      <td>10/01/2008 12:00:00 AM</td>\n",
       "      <td>Maltese</td>\n",
       "      <td>Bronx</td>\n",
       "      <td>10451.0</td>\n",
       "      <td>201.0</td>\n",
       "      <td>65.0</td>\n",
       "      <td>BX34</td>\n",
       "      <td>17.0</td>\n",
       "      <td>15.0</td>\n",
       "      <td>32.0</td>\n",
       "      <td>03/09/2015</td>\n",
       "      <td>03/09/2016</td>\n",
       "    </tr>\n",
       "  </tbody>\n",
       "</table>\n",
       "</div>"
      ],
      "text/plain": [
       "   RowNumber AnimalName AnimalGender        AnimalBirthMonth BreedName  \\\n",
       "0       1753    SHADOW             M  01/01/2000 12:00:00 AM    Beagle   \n",
       "1       2415      ROCCO            M  10/01/2011 12:00:00 AM     Boxer   \n",
       "2       3328      LUIGI            M  09/01/2005 12:00:00 AM   Maltese   \n",
       "3       7537    PETUNIA            F  08/01/2013 12:00:00 AM       Pug   \n",
       "4       8487      ROMEO            M  10/01/2008 12:00:00 AM   Maltese   \n",
       "\n",
       "    Borough  ZipCode  CommunityDistrict  CensusTract2010   NTA  \\\n",
       "0  Brooklyn  11236.0              318.0           1014.0  BK50   \n",
       "1  Brooklyn  11210.0              314.0            756.0  BK43   \n",
       "2     Bronx  10464.0              210.0            516.0  BX10   \n",
       "3  Brooklyn  11221.0              304.0            419.0  BK78   \n",
       "4     Bronx  10451.0              201.0             65.0  BX34   \n",
       "\n",
       "   CityCouncilDistrict  CongressionalDistrict  StateSenatorialDistrict  \\\n",
       "0                 46.0                    8.0                     19.0   \n",
       "1                 45.0                    9.0                     17.0   \n",
       "2                 13.0                   14.0                     34.0   \n",
       "3                 34.0                    7.0                     18.0   \n",
       "4                 17.0                   15.0                     32.0   \n",
       "\n",
       "  LicenseIssuedDate LicenseExpiredDate  \n",
       "0        12/29/2014         01/30/2016  \n",
       "1        01/07/2015         01/30/2016  \n",
       "2        01/17/2015         02/02/2016  \n",
       "3        03/01/2015         03/28/2016  \n",
       "4        03/09/2015         03/09/2016  "
      ]
     },
     "execution_count": 4,
     "metadata": {},
     "output_type": "execute_result"
    }
   ],
   "source": [
    "nycdogs.head()"
   ]
  },
  {
   "cell_type": "code",
   "execution_count": 5,
   "metadata": {
    "scrolled": true
   },
   "outputs": [
    {
     "data": {
      "text/plain": [
       "RowNumber                    int64\n",
       "AnimalName                  object\n",
       "AnimalGender                object\n",
       "AnimalBirthMonth            object\n",
       "BreedName                   object\n",
       "Borough                     object\n",
       "ZipCode                    float64\n",
       "CommunityDistrict          float64\n",
       "CensusTract2010            float64\n",
       "NTA                         object\n",
       "CityCouncilDistrict        float64\n",
       "CongressionalDistrict      float64\n",
       "StateSenatorialDistrict    float64\n",
       "LicenseIssuedDate           object\n",
       "LicenseExpiredDate          object\n",
       "dtype: object"
      ]
     },
     "execution_count": 5,
     "metadata": {},
     "output_type": "execute_result"
    }
   ],
   "source": [
    "nycdogs.dtypes"
   ]
  },
  {
   "cell_type": "code",
   "execution_count": 6,
   "metadata": {},
   "outputs": [],
   "source": [
    "nycdogs['LicenseIssuedDate'] = pd.to_datetime(nycdogs['LicenseIssuedDate'])"
   ]
  },
  {
   "cell_type": "code",
   "execution_count": 7,
   "metadata": {
    "scrolled": true
   },
   "outputs": [],
   "source": [
    "nycdogs2016 = nycdogs[nycdogs['LicenseIssuedDate'].dt.year == 2016.0]"
   ]
  },
  {
   "cell_type": "code",
   "execution_count": 8,
   "metadata": {},
   "outputs": [
    {
     "data": {
      "text/html": [
       "<div>\n",
       "<table border=\"1\" class=\"dataframe\">\n",
       "  <thead>\n",
       "    <tr style=\"text-align: right;\">\n",
       "      <th></th>\n",
       "      <th>BreedName</th>\n",
       "      <th>Total</th>\n",
       "    </tr>\n",
       "  </thead>\n",
       "  <tbody>\n",
       "    <tr>\n",
       "      <th>0</th>\n",
       "      <td>Unknown</td>\n",
       "      <td>10385</td>\n",
       "    </tr>\n",
       "    <tr>\n",
       "      <th>1</th>\n",
       "      <td>Yorkshire Terrier</td>\n",
       "      <td>4929</td>\n",
       "    </tr>\n",
       "    <tr>\n",
       "      <th>2</th>\n",
       "      <td>Shih Tzu</td>\n",
       "      <td>4501</td>\n",
       "    </tr>\n",
       "    <tr>\n",
       "      <th>3</th>\n",
       "      <td>Chihuahua</td>\n",
       "      <td>3594</td>\n",
       "    </tr>\n",
       "    <tr>\n",
       "      <th>4</th>\n",
       "      <td>Maltese</td>\n",
       "      <td>2655</td>\n",
       "    </tr>\n",
       "  </tbody>\n",
       "</table>\n",
       "</div>"
      ],
      "text/plain": [
       "           BreedName  Total\n",
       "0            Unknown  10385\n",
       "1  Yorkshire Terrier   4929\n",
       "2           Shih Tzu   4501\n",
       "3          Chihuahua   3594\n",
       "4            Maltese   2655"
      ]
     },
     "execution_count": 8,
     "metadata": {},
     "output_type": "execute_result"
    }
   ],
   "source": [
    "nycdogsbreed2016 = nycdogs2016.groupby('BreedName').count()\n",
    "nycdogsbreed2016.reset_index(drop=False, inplace=True)\n",
    "nycdogsbreed2016 = nycdogsbreed2016[[0,1]]\n",
    "nycdogsbreed2016.sort_values(by='RowNumber', ascending=False, inplace=True)\n",
    "nycdogsbreed2016.reset_index(drop=True, inplace=True)\n",
    "nycdogsbreed2016.rename(columns={'RowNumber': 'Total'}, inplace=True)\n",
    "nycdogsbreed2016.head()"
   ]
  },
  {
   "cell_type": "code",
   "execution_count": 9,
   "metadata": {},
   "outputs": [
    {
     "data": {
      "text/html": [
       "<div>\n",
       "<table border=\"1\" class=\"dataframe\">\n",
       "  <thead>\n",
       "    <tr style=\"text-align: right;\">\n",
       "      <th></th>\n",
       "      <th>BreedName</th>\n",
       "      <th>Total</th>\n",
       "    </tr>\n",
       "  </thead>\n",
       "  <tbody>\n",
       "    <tr>\n",
       "      <th>1</th>\n",
       "      <td>Yorkshire Terrier</td>\n",
       "      <td>4929</td>\n",
       "    </tr>\n",
       "    <tr>\n",
       "      <th>2</th>\n",
       "      <td>Shih Tzu</td>\n",
       "      <td>4501</td>\n",
       "    </tr>\n",
       "    <tr>\n",
       "      <th>3</th>\n",
       "      <td>Chihuahua</td>\n",
       "      <td>3594</td>\n",
       "    </tr>\n",
       "    <tr>\n",
       "      <th>4</th>\n",
       "      <td>Maltese</td>\n",
       "      <td>2655</td>\n",
       "    </tr>\n",
       "    <tr>\n",
       "      <th>5</th>\n",
       "      <td>Labrador Retriever</td>\n",
       "      <td>2545</td>\n",
       "    </tr>\n",
       "  </tbody>\n",
       "</table>\n",
       "</div>"
      ],
      "text/plain": [
       "            BreedName  Total\n",
       "1   Yorkshire Terrier   4929\n",
       "2            Shih Tzu   4501\n",
       "3           Chihuahua   3594\n",
       "4             Maltese   2655\n",
       "5  Labrador Retriever   2545"
      ]
     },
     "execution_count": 9,
     "metadata": {},
     "output_type": "execute_result"
    }
   ],
   "source": [
    "# remove first row since breed is unknown\n",
    "nycdogsbreed2016.drop([0], axis=0, inplace=True)\n",
    "nycdogsbreed2016.head()"
   ]
  },
  {
   "cell_type": "code",
   "execution_count": 10,
   "metadata": {},
   "outputs": [],
   "source": [
    "top10 = nycdogsbreed2016.head(10)"
   ]
  },
  {
   "cell_type": "code",
   "execution_count": 12,
   "metadata": {},
   "outputs": [
    {
     "data": {
      "image/png": "[encoded data removed]",
      "text/plain": [
       "<matplotlib.figure.Figure at 0x7f57ac7af4e0>"
      ]
     },
     "metadata": {},
     "output_type": "display_data"
    }
   ],
   "source": [
    "ax = top10.plot(figsize=(15,6), kind='barh', x='BreedName', legend=False, color='xkcd:brown', fontsize=15)\n",
    "ax.set_title(\"10 Most Popular Dog Breeds in New York City (2016)\", fontsize=15)\n",
    "ax.set_xlabel(\" \", fontsize=15)\n",
    "ax.set_ylabel(\" \")\n",
    "ax.set_frame_on(False)\n",
    "plt.gca().invert_yaxis()"
   ]
  },
  {
   "cell_type": "markdown",
   "metadata": {},
   "source": [
    "The 10 most popular dog breeds in NYC in 2016, based on the number of licenses issued in 2016."
   ]
  },
  {
   "cell_type": "code",
   "execution_count": 14,
   "metadata": {
    "scrolled": false
   },
   "outputs": [
    {
     "data": {
      "text/html": [
       "<div>\n",
       "<table border=\"1\" class=\"dataframe\">\n",
       "  <thead>\n",
       "    <tr style=\"text-align: right;\">\n",
       "      <th></th>\n",
       "      <th>RowNumber</th>\n",
       "      <th>AnimalName</th>\n",
       "      <th>AnimalGender</th>\n",
       "      <th>AnimalBirthMonth</th>\n",
       "      <th>BreedName</th>\n",
       "      <th>Borough</th>\n",
       "      <th>ZipCode</th>\n",
       "      <th>CommunityDistrict</th>\n",
       "      <th>CensusTract2010</th>\n",
       "      <th>NTA</th>\n",
       "      <th>CityCouncilDistrict</th>\n",
       "      <th>CongressionalDistrict</th>\n",
       "      <th>StateSenatorialDistrict</th>\n",
       "      <th>LicenseIssuedDate</th>\n",
       "      <th>LicenseExpiredDate</th>\n",
       "    </tr>\n",
       "  </thead>\n",
       "  <tbody>\n",
       "    <tr>\n",
       "      <th>45</th>\n",
       "      <td>47793</td>\n",
       "      <td>SACHI</td>\n",
       "      <td>F</td>\n",
       "      <td>10/01/2006 12:00:00 AM</td>\n",
       "      <td>Chow Chow</td>\n",
       "      <td>Queens</td>\n",
       "      <td>11385.0</td>\n",
       "      <td>405.0</td>\n",
       "      <td>637.0</td>\n",
       "      <td>QN19</td>\n",
       "      <td>30.0</td>\n",
       "      <td>6.0</td>\n",
       "      <td>15.0</td>\n",
       "      <td>2016-01-15</td>\n",
       "      <td>02/12/2017</td>\n",
       "    </tr>\n",
       "    <tr>\n",
       "      <th>46</th>\n",
       "      <td>48071</td>\n",
       "      <td>NIKO</td>\n",
       "      <td>M</td>\n",
       "      <td>10/01/2013 12:00:00 AM</td>\n",
       "      <td>Pug</td>\n",
       "      <td>Queens</td>\n",
       "      <td>11357.0</td>\n",
       "      <td>407.0</td>\n",
       "      <td>991.0</td>\n",
       "      <td>QN49</td>\n",
       "      <td>19.0</td>\n",
       "      <td>3.0</td>\n",
       "      <td>11.0</td>\n",
       "      <td>2016-01-17</td>\n",
       "      <td>03/02/2017</td>\n",
       "    </tr>\n",
       "    <tr>\n",
       "      <th>47</th>\n",
       "      <td>50583</td>\n",
       "      <td>GOGO</td>\n",
       "      <td>F</td>\n",
       "      <td>04/01/2008 12:00:00 AM</td>\n",
       "      <td>Pug</td>\n",
       "      <td>Manhattan</td>\n",
       "      <td>10003.0</td>\n",
       "      <td>102.0</td>\n",
       "      <td>59.0</td>\n",
       "      <td>MN23</td>\n",
       "      <td>2.0</td>\n",
       "      <td>12.0</td>\n",
       "      <td>27.0</td>\n",
       "      <td>2016-02-02</td>\n",
       "      <td>04/05/2017</td>\n",
       "    </tr>\n",
       "    <tr>\n",
       "      <th>48</th>\n",
       "      <td>52086</td>\n",
       "      <td>KAI</td>\n",
       "      <td>M</td>\n",
       "      <td>09/01/2007 12:00:00 AM</td>\n",
       "      <td>Unknown</td>\n",
       "      <td>Bronx</td>\n",
       "      <td>10456.0</td>\n",
       "      <td>203.0</td>\n",
       "      <td>151.0</td>\n",
       "      <td>BX35</td>\n",
       "      <td>17.0</td>\n",
       "      <td>15.0</td>\n",
       "      <td>32.0</td>\n",
       "      <td>2016-02-09</td>\n",
       "      <td>02/21/2017</td>\n",
       "    </tr>\n",
       "    <tr>\n",
       "      <th>49</th>\n",
       "      <td>52822</td>\n",
       "      <td>MAX</td>\n",
       "      <td>M</td>\n",
       "      <td>01/01/2004 12:00:00 AM</td>\n",
       "      <td>Unknown</td>\n",
       "      <td>Bronx</td>\n",
       "      <td>10473.0</td>\n",
       "      <td>209.0</td>\n",
       "      <td>28.0</td>\n",
       "      <td>BX09</td>\n",
       "      <td>17.0</td>\n",
       "      <td>15.0</td>\n",
       "      <td>32.0</td>\n",
       "      <td>2016-02-12</td>\n",
       "      <td>12/30/2016</td>\n",
       "    </tr>\n",
       "  </tbody>\n",
       "</table>\n",
       "</div>"
      ],
      "text/plain": [
       "    RowNumber AnimalName AnimalGender        AnimalBirthMonth  BreedName  \\\n",
       "45      47793      SACHI            F  10/01/2006 12:00:00 AM  Chow Chow   \n",
       "46      48071       NIKO            M  10/01/2013 12:00:00 AM        Pug   \n",
       "47      50583       GOGO            F  04/01/2008 12:00:00 AM        Pug   \n",
       "48      52086        KAI            M  09/01/2007 12:00:00 AM    Unknown   \n",
       "49      52822       MAX             M  01/01/2004 12:00:00 AM    Unknown   \n",
       "\n",
       "      Borough  ZipCode  CommunityDistrict  CensusTract2010   NTA  \\\n",
       "45     Queens  11385.0              405.0            637.0  QN19   \n",
       "46     Queens  11357.0              407.0            991.0  QN49   \n",
       "47  Manhattan  10003.0              102.0             59.0  MN23   \n",
       "48      Bronx  10456.0              203.0            151.0  BX35   \n",
       "49      Bronx  10473.0              209.0             28.0  BX09   \n",
       "\n",
       "    CityCouncilDistrict  CongressionalDistrict  StateSenatorialDistrict  \\\n",
       "45                 30.0                    6.0                     15.0   \n",
       "46                 19.0                    3.0                     11.0   \n",
       "47                  2.0                   12.0                     27.0   \n",
       "48                 17.0                   15.0                     32.0   \n",
       "49                 17.0                   15.0                     32.0   \n",
       "\n",
       "   LicenseIssuedDate LicenseExpiredDate  \n",
       "45        2016-01-15         02/12/2017  \n",
       "46        2016-01-17         03/02/2017  \n",
       "47        2016-02-02         04/05/2017  \n",
       "48        2016-02-09         02/21/2017  \n",
       "49        2016-02-12         12/30/2016  "
      ]
     },
     "execution_count": 14,
     "metadata": {},
     "output_type": "execute_result"
    }
   ],
   "source": [
    "nycdogs2016.head()"
   ]
  },
  {
   "cell_type": "code",
   "execution_count": 15,
   "metadata": {},
   "outputs": [
    {
     "name": "stdout",
     "output_type": "stream",
     "text": [
      "Archive:  zipcode.zip\n",
      "replace /nfshome/rms818/PUIdata/ZIP_CODE_040114.shx? [y]es, [n]o, [A]ll, [N]one, [r]ename: ^C\n"
     ]
    }
   ],
   "source": [
    "url = \"https://data.cityofnewyork.us/api/views/i8iw-xf4u/files/YObIR0MbpUVA0EpQzZSq5x55FzKGM2ejSeahdvjqR20?filename=ZIP_CODE_040114.zip\"\n",
    "ulib.request.urlretrieve(url, \"zipcode.zip\")\n",
    "!unzip -d $PUIDATA zipcode.zip"
   ]
  },
  {
   "cell_type": "code",
   "execution_count": 16,
   "metadata": {},
   "outputs": [],
   "source": [
    "zipcodeshp = gpd.GeoDataFrame.from_file(os.getenv('PUIDATA') + '/ZIP_CODE_040114.shp')"
   ]
  },
  {
   "cell_type": "code",
   "execution_count": 17,
   "metadata": {},
   "outputs": [
    {
     "data": {
      "text/html": [
       "<div>\n",
       "<table border=\"1\" class=\"dataframe\">\n",
       "  <thead>\n",
       "    <tr style=\"text-align: right;\">\n",
       "      <th></th>\n",
       "      <th>ZIPCODE</th>\n",
       "      <th>BLDGZIP</th>\n",
       "      <th>PO_NAME</th>\n",
       "      <th>POPULATION</th>\n",
       "      <th>AREA</th>\n",
       "      <th>STATE</th>\n",
       "      <th>COUNTY</th>\n",
       "      <th>ST_FIPS</th>\n",
       "      <th>CTY_FIPS</th>\n",
       "      <th>URL</th>\n",
       "      <th>SHAPE_AREA</th>\n",
       "      <th>SHAPE_LEN</th>\n",
       "      <th>geometry</th>\n",
       "    </tr>\n",
       "  </thead>\n",
       "  <tbody>\n",
       "    <tr>\n",
       "      <th>0</th>\n",
       "      <td>11436</td>\n",
       "      <td>0</td>\n",
       "      <td>Jamaica</td>\n",
       "      <td>18681.0</td>\n",
       "      <td>2.269930e+07</td>\n",
       "      <td>NY</td>\n",
       "      <td>Queens</td>\n",
       "      <td>36</td>\n",
       "      <td>081</td>\n",
       "      <td>http://www.usps.com/</td>\n",
       "      <td>0.0</td>\n",
       "      <td>0.0</td>\n",
       "      <td>POLYGON ((1038098.251871482 188138.3800067157,...</td>\n",
       "    </tr>\n",
       "    <tr>\n",
       "      <th>1</th>\n",
       "      <td>11213</td>\n",
       "      <td>0</td>\n",
       "      <td>Brooklyn</td>\n",
       "      <td>62426.0</td>\n",
       "      <td>2.963100e+07</td>\n",
       "      <td>NY</td>\n",
       "      <td>Kings</td>\n",
       "      <td>36</td>\n",
       "      <td>047</td>\n",
       "      <td>http://www.usps.com/</td>\n",
       "      <td>0.0</td>\n",
       "      <td>0.0</td>\n",
       "      <td>POLYGON ((1001613.712964058 186926.4395172149,...</td>\n",
       "    </tr>\n",
       "    <tr>\n",
       "      <th>2</th>\n",
       "      <td>11212</td>\n",
       "      <td>0</td>\n",
       "      <td>Brooklyn</td>\n",
       "      <td>83866.0</td>\n",
       "      <td>4.197210e+07</td>\n",
       "      <td>NY</td>\n",
       "      <td>Kings</td>\n",
       "      <td>36</td>\n",
       "      <td>047</td>\n",
       "      <td>http://www.usps.com/</td>\n",
       "      <td>0.0</td>\n",
       "      <td>0.0</td>\n",
       "      <td>POLYGON ((1011174.275535807 183696.33770971, 1...</td>\n",
       "    </tr>\n",
       "    <tr>\n",
       "      <th>3</th>\n",
       "      <td>11225</td>\n",
       "      <td>0</td>\n",
       "      <td>Brooklyn</td>\n",
       "      <td>56527.0</td>\n",
       "      <td>2.369863e+07</td>\n",
       "      <td>NY</td>\n",
       "      <td>Kings</td>\n",
       "      <td>36</td>\n",
       "      <td>047</td>\n",
       "      <td>http://www.usps.com/</td>\n",
       "      <td>0.0</td>\n",
       "      <td>0.0</td>\n",
       "      <td>POLYGON ((995908.3654508889 183617.6128015518,...</td>\n",
       "    </tr>\n",
       "    <tr>\n",
       "      <th>4</th>\n",
       "      <td>11218</td>\n",
       "      <td>0</td>\n",
       "      <td>Brooklyn</td>\n",
       "      <td>72280.0</td>\n",
       "      <td>3.686880e+07</td>\n",
       "      <td>NY</td>\n",
       "      <td>Kings</td>\n",
       "      <td>36</td>\n",
       "      <td>047</td>\n",
       "      <td>http://www.usps.com/</td>\n",
       "      <td>0.0</td>\n",
       "      <td>0.0</td>\n",
       "      <td>POLYGON ((991997.1134308875 176307.4958601296,...</td>\n",
       "    </tr>\n",
       "  </tbody>\n",
       "</table>\n",
       "</div>"
      ],
      "text/plain": [
       "  ZIPCODE BLDGZIP   PO_NAME  POPULATION          AREA STATE  COUNTY ST_FIPS  \\\n",
       "0   11436       0   Jamaica     18681.0  2.269930e+07    NY  Queens      36   \n",
       "1   11213       0  Brooklyn     62426.0  2.963100e+07    NY   Kings      36   \n",
       "2   11212       0  Brooklyn     83866.0  4.197210e+07    NY   Kings      36   \n",
       "3   11225       0  Brooklyn     56527.0  2.369863e+07    NY   Kings      36   \n",
       "4   11218       0  Brooklyn     72280.0  3.686880e+07    NY   Kings      36   \n",
       "\n",
       "  CTY_FIPS                   URL  SHAPE_AREA  SHAPE_LEN  \\\n",
       "0      081  http://www.usps.com/         0.0        0.0   \n",
       "1      047  http://www.usps.com/         0.0        0.0   \n",
       "2      047  http://www.usps.com/         0.0        0.0   \n",
       "3      047  http://www.usps.com/         0.0        0.0   \n",
       "4      047  http://www.usps.com/         0.0        0.0   \n",
       "\n",
       "                                            geometry  \n",
       "0  POLYGON ((1038098.251871482 188138.3800067157,...  \n",
       "1  POLYGON ((1001613.712964058 186926.4395172149,...  \n",
       "2  POLYGON ((1011174.275535807 183696.33770971, 1...  \n",
       "3  POLYGON ((995908.3654508889 183617.6128015518,...  \n",
       "4  POLYGON ((991997.1134308875 176307.4958601296,...  "
      ]
     },
     "execution_count": 17,
     "metadata": {},
     "output_type": "execute_result"
    }
   ],
   "source": [
    "zipcodeshp.head()"
   ]
  },
  {
   "cell_type": "code",
   "execution_count": 18,
   "metadata": {},
   "outputs": [
    {
     "name": "stderr",
     "output_type": "stream",
     "text": [
      "/usr/local/Anaconda3-5.0.0-Linux-x86_64/envs/PUI2016_Python3/lib/python3.5/site-packages/ipykernel/__main__.py:1: SettingWithCopyWarning: \n",
      "A value is trying to be set on a copy of a slice from a DataFrame.\n",
      "Try using .loc[row_indexer,col_indexer] = value instead\n",
      "\n",
      "See the caveats in the documentation: http://pandas.pydata.org/pandas-docs/stable/indexing.html#indexing-view-versus-copy\n",
      "  if __name__ == '__main__':\n"
     ]
    },
    {
     "data": {
      "text/html": [
       "<div>\n",
       "<table border=\"1\" class=\"dataframe\">\n",
       "  <thead>\n",
       "    <tr style=\"text-align: right;\">\n",
       "      <th></th>\n",
       "      <th>ZIPCODE</th>\n",
       "      <th>Total Dogs</th>\n",
       "    </tr>\n",
       "  </thead>\n",
       "  <tbody>\n",
       "    <tr>\n",
       "      <th>0</th>\n",
       "      <td>1003</td>\n",
       "      <td>1</td>\n",
       "    </tr>\n",
       "    <tr>\n",
       "      <th>1</th>\n",
       "      <td>1175</td>\n",
       "      <td>2</td>\n",
       "    </tr>\n",
       "    <tr>\n",
       "      <th>2</th>\n",
       "      <td>7013</td>\n",
       "      <td>1</td>\n",
       "    </tr>\n",
       "    <tr>\n",
       "      <th>3</th>\n",
       "      <td>7030</td>\n",
       "      <td>1</td>\n",
       "    </tr>\n",
       "    <tr>\n",
       "      <th>4</th>\n",
       "      <td>7093</td>\n",
       "      <td>1</td>\n",
       "    </tr>\n",
       "    <tr>\n",
       "      <th>5</th>\n",
       "      <td>7302</td>\n",
       "      <td>1</td>\n",
       "    </tr>\n",
       "    <tr>\n",
       "      <th>6</th>\n",
       "      <td>10001</td>\n",
       "      <td>555</td>\n",
       "    </tr>\n",
       "    <tr>\n",
       "      <th>7</th>\n",
       "      <td>10002</td>\n",
       "      <td>702</td>\n",
       "    </tr>\n",
       "    <tr>\n",
       "      <th>8</th>\n",
       "      <td>10003</td>\n",
       "      <td>949</td>\n",
       "    </tr>\n",
       "    <tr>\n",
       "      <th>9</th>\n",
       "      <td>10004</td>\n",
       "      <td>75</td>\n",
       "    </tr>\n",
       "  </tbody>\n",
       "</table>\n",
       "</div>"
      ],
      "text/plain": [
       "   ZIPCODE  Total Dogs\n",
       "0     1003           1\n",
       "1     1175           2\n",
       "2     7013           1\n",
       "3     7030           1\n",
       "4     7093           1\n",
       "5     7302           1\n",
       "6    10001         555\n",
       "7    10002         702\n",
       "8    10003         949\n",
       "9    10004          75"
      ]
     },
     "execution_count": 18,
     "metadata": {},
     "output_type": "execute_result"
    }
   ],
   "source": [
    "nycdogs2016['ZipCode'] = nycdogs2016['ZipCode'].astype(int)\n",
    "nycdogs_zipcode = nycdogs2016.groupby('ZipCode').count()\n",
    "nycdogs_zipcode = nycdogs_zipcode[[0]]\n",
    "nycdogs_zipcode.reset_index(drop=False, inplace=True)\n",
    "nycdogs_zipcode.rename(columns={'ZipCode': 'ZIPCODE', 'RowNumber': 'Total Dogs'}, inplace=True)\n",
    "nycdogs_zipcode.head(10)"
   ]
  },
  {
   "cell_type": "code",
   "execution_count": 19,
   "metadata": {},
   "outputs": [],
   "source": [
    "zipcodeshp.ZIPCODE = zipcodeshp['ZIPCODE'].astype(int)"
   ]
  },
  {
   "cell_type": "code",
   "execution_count": 20,
   "metadata": {},
   "outputs": [],
   "source": [
    "nycdogs_zipcodeshp = zipcodeshp.merge(nycdogs_zipcode, on='ZIPCODE')"
   ]
  },
  {
   "cell_type": "code",
   "execution_count": 21,
   "metadata": {},
   "outputs": [],
   "source": [
    "nycdogs_zipcodeshp = gpd.GeoDataFrame(nycdogs_zipcodeshp)"
   ]
  },
  {
   "cell_type": "code",
   "execution_count": 25,
   "metadata": {},
   "outputs": [
    {
     "data": {
      "text/plain": [
       "Text(0.5,1,'Number of dog licenses issued in 2016 by zipcode')"
      ]
     },
     "execution_count": 25,
     "metadata": {},
     "output_type": "execute_result"
    },
    {
     "data": {
      "image/png": "[encoded data removed]",
      "text/plain": [
       "<matplotlib.figure.Figure at 0x7f57a874d630>"
      ]
     },
     "metadata": {},
     "output_type": "display_data"
    }
   ],
   "source": [
    "ax = nycdogs_zipcodeshp.plot(column='Total Dogs', legend=True, figsize=(12,12), cmap='copper_r')\n",
    "ax.set_axis_off()\n",
    "ax.set_title('Number of dog licenses issued in 2016 by zipcode')"
   ]
  },
  {
   "cell_type": "code",
   "execution_count": null,
   "metadata": {},
   "outputs": [],
   "source": []
  }
 ],
 "metadata": {
  "kernelspec": {
   "display_name": "PUI2016_Python3",
   "language": "python",
   "name": "pui2016_python3"
  },
  "language_info": {
   "codemirror_mode": {
    "name": "ipython",
    "version": 3
   },
   "file_extension": ".py",
   "mimetype": "text/x-python",
   "name": "python",
   "nbconvert_exporter": "python",
   "pygments_lexer": "ipython3",
   "version": "3.5.4"
  }
 },
 "nbformat": 4,
 "nbformat_minor": 2
}
